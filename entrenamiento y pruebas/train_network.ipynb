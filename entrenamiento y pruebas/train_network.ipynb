{
 "cells": [
  {
   "cell_type": "markdown",
   "metadata": {},
   "source": [
    "# Importación de librerías"
   ]
  },
  {
   "cell_type": "code",
   "execution_count": 1,
   "metadata": {},
   "outputs": [],
   "source": [
    "import pandas as pd\n",
    "import numpy as np\n",
    "import splitfolders\n",
    "import matplotlib.pyplot as plt\n",
    "from sklearn.metrics import confusion_matrix\n",
    "\n",
    "\n",
    "from keras.optimizers import Adam\n",
    "from keras.layers import Activation, Dense, Dropout, Conv2D, Flatten ,MaxPooling2D\n",
    "from keras.models import Sequential\n",
    "from keras.preprocessing.image import ImageDataGenerator\n",
    "from tensorflow.keras.models import load_model\n"
   ]
  },
  {
   "cell_type": "markdown",
   "metadata": {},
   "source": [
    "# Verificación de GPU"
   ]
  },
  {
   "cell_type": "code",
   "execution_count": 7,
   "metadata": {},
   "outputs": [
    {
     "name": "stdout",
     "output_type": "stream",
     "text": [
      "No hay GPU disponible, se usara la CPU\n"
     ]
    }
   ],
   "source": [
    "from tensorflow.test import gpu_device_name\n",
    "if gpu_device_name():\n",
    "    print(f'GPU Disponible: {gpu_device_name()}')\n",
    "else:\n",
    "    print(\"No hay GPU disponible, se usara la CPU\")\n",
    "# Originalemente se uso una GPU para el entrenamiento de la red neuronal, pero se cambio a CPU para la ejecucion del programa"
   ]
  },
  {
   "cell_type": "markdown",
   "metadata": {},
   "source": [
    "# Dividir carpetas en conjuntos de datos (opcional)"
   ]
  },
  {
   "cell_type": "code",
   "execution_count": 8,
   "metadata": {},
   "outputs": [],
   "source": [
    "# Directorio que contiene tus espectrogramas\n",
    "input_dir = \"C:\\Diego\\music-genre-classifier\\imagenes\\gtzan2\"\n",
    "# Directorio de salida donde se guardarán los conjuntos divididos\n",
    "output_dir = \"C:\\Diego\\music-genre-classifier\\imagenes\\gtzan_split\"\n",
    "\n",
    "# Dividir los datos en conjuntos de entrenamiento, validación y prueba\n",
    "# splitfolders.ratio(input_dir, output=output_dir, seed=1337, ratio=(0.7, 0.15, 0.15))"
   ]
  },
  {
   "cell_type": "markdown",
   "metadata": {},
   "source": [
    "# Preprocesamiento de imágenes con Keras"
   ]
  },
  {
   "cell_type": "code",
   "execution_count": null,
   "metadata": {},
   "outputs": [],
   "source": [
    "# Directorio raíz donde se encuentran las carpetas de las clases\n",
    "data_dir = 'C:\\Diego\\music-genre-classifier\\imagenes\\gtzan2_split'\n",
    "train_dir = f\"{data_dir}/train\"\n",
    "val_dir = f\"{data_dir}/val\"\n",
    "test_dir = f\"{data_dir}/test\"\n",
    "# Dimensiones de las imágenes\n",
    "img_width, img_height = 216, 224\n",
    "# Batch size\n",
    "batch_size = 64\n",
    "\n",
    "# Crear generador de datos\n",
    "datagen = ImageDataGenerator(\n",
    "    rescale=1./255, \n",
    "\n",
    "         # Normalizar los valores de píxeles entre 0 y 1\n",
    "  )    # Proporción de datos para validación y prueba\n",
    "\n",
    "# Generador de datos para entrenamiento y validación (incluyendo la división)\n",
    "train_generator = datagen.flow_from_directory(\n",
    "    train_dir,                       # Directorio raíz\n",
    "    target_size=(img_width, img_height),  # Dimensiones de las imágenes\n",
    "    batch_size=batch_size,          # Tamaño del batch\n",
    "    class_mode='categorical',       # Modo de clasificación categórica\n",
    "  shuffle=True\n",
    "  )              # Usar conjunto de entrenamiento\n",
    "\n",
    "# Generador de datos para validación\n",
    "validation_generator = datagen.flow_from_directory(\n",
    "    val_dir,                       # Directorio raíz\n",
    "    target_size=(img_width, img_height),  # Dimensiones de las imágenes\n",
    "    batch_size=batch_size,          # Tamaño del batch\n",
    "   shuffle=True\n",
    "\n",
    "    )            # Usar conjunto de validación\n",
    "\n",
    "test_generator = datagen.flow_from_directory(\n",
    "    test_dir,\n",
    "    target_size=(img_width, img_height),  # Dimensiones de las imágenes\n",
    "    batch_size=batch_size, \n",
    "      shuffle=False\n",
    "\n",
    ")"
   ]
  },
  {
   "cell_type": "markdown",
   "metadata": {},
   "source": [
    "# Creación del modelo de Red Neuronal Convolucional"
   ]
  },
  {
   "cell_type": "code",
   "execution_count": null,
   "metadata": {},
   "outputs": [],
   "source": [
    "model = Sequential()\n",
    "model.add(Conv2D(32, (3, 3), input_shape=(img_width, img_height, 3)))\n",
    "model.add(Activation('relu'))\n",
    "model.add(MaxPooling2D(pool_size=(2, 2)))\n",
    "\n",
    "model.add(Conv2D(32, (3, 3)))\n",
    "model.add(Activation('relu'))\n",
    "model.add(MaxPooling2D(pool_size=(2, 2)))\n",
    "\n",
    "model.add(Flatten())\n",
    "model.add(Dense(64))\n",
    "model.add(Activation('relu'))\n",
    "model.add(Dropout(0.5))\n",
    "model.add(Dense(10))\n",
    "model.add(Activation('softmax'))\n",
    "\n",
    "model.compile(loss='categorical_crossentropy', optimizer='adam', metrics=['accuracy'])"
   ]
  },
  {
   "cell_type": "markdown",
   "metadata": {},
   "source": [
    "# Entrenamiento del modelo"
   ]
  },
  {
   "cell_type": "code",
   "execution_count": null,
   "metadata": {},
   "outputs": [],
   "source": [
    "# Entrenar el modelo\n",
    "history = model.fit(train_generator, epochs=10, validation_data=val_dir)"
   ]
  },
  {
   "cell_type": "markdown",
   "metadata": {},
   "source": [
    "Tras un filtrado de parametros inicial, se realiza una hiperparametrización"
   ]
  },
  {
   "cell_type": "code",
   "execution_count": 10,
   "metadata": {},
   "outputs": [],
   "source": [
    "def create_model(filters_per_layer, dropout_rate, dense_units, input_shape):\n",
    "    model = Sequential()\n",
    "    \n",
    "    # Add convolutional layers\n",
    "    for filters in filters_per_layer:\n",
    "        if model.layers:\n",
    "            model.add(Conv2D(filters, (3, 3), activation='relu', padding='same'))\n",
    "        else:\n",
    "            model.add(Conv2D(filters, (3, 3), activation='relu', padding='same', input_shape=input_shape))\n",
    "        model.add(MaxPooling2D(pool_size=(2, 2)))\n",
    "    \n",
    "    # Flatten the output\n",
    "    model.add(Flatten())\n",
    "    \n",
    "    # Add dense layers\n",
    "    for units in dense_units:\n",
    "        model.add(Dense(units, activation='relu'))\n",
    "        model.add(Dropout(dropout_rate))\n",
    "    \n",
    "    # Output layer\n",
    "    model.add(Dense(10, activation='softmax'))  # Assuming 10 classes for classification\n",
    "    \n",
    "    # Compile the model\n",
    "    model.compile(optimizer=Adam(), loss='categorical_crossentropy', metrics=['accuracy'])\n",
    "    \n",
    "    return model\n",
    "\n",
    "# Example usage in your model_trainer function\n",
    "def model_trainer():\n",
    "    filters_per_layer = [[32, 64, 128, 128], [32, 64, 64, 128], [32, 64, 128, 256]]\n",
    "    dropout_rate = [0.1, 0.3]\n",
    "    dense_units = [[1024, 256], [512, 256], [128, 64]]\n",
    "    best_accuracy = 0\n",
    "    for filters in filters_per_layer:\n",
    "        for dropout in dropout_rate:\n",
    "            for dense in dense_units:\n",
    "                model = create_model(filters_per_layer=filters, dropout_rate=dropout, dense_units=dense, input_shape=(img_width, img_height, 3))\n",
    "                print('Training model with filters={}, dropout={}, dense={}'.format(filters, dropout, dense))\n",
    "                model.fit(train_generator, validation_data=validation_generator, epochs=10, verbose=0)\n",
    "                accuracy = model.evaluate(test_generator)[1]\n",
    "                print('Accuracy:', accuracy)\n",
    "                if accuracy > best_accuracy:\n",
    "                    best_accuracy = accuracy\n",
    "                    best_model = model\n",
    "\n",
    "#model = model_trainer()\n",
    "MODEL_PATH = \"/Users/diego/UValencia/TFG/notebook/model/modelo90%.h5\"\n",
    "model = load_model(MODEL_PATH)\n",
    "\n",
    "def model_trainer():\n",
    "    filters_per_layer = [[32, 64, 128, 128], [32, 64, 64, 128], [32, 64, 128, 256]]\n",
    "    dropout_rate = [0.1, 0.3]\n",
    "    dense_units = [[1024, 256], [512, 256], [128, 64]]\n",
    "    best_accuracy = 0\n",
    "    for filters in filters_per_layer:\n",
    "        for dropout in dropout_rate:\n",
    "            for dense in dense_units:\n",
    "                model = create_model(filters_per_layer=filters, dropout_rate=dropout, dense_units=dense, input_shape=(img_width, img_height, 3))\n",
    "                print('Training model with filters={}, dropout={}, dense={}'.format(filters, dropout, dense))\n",
    "                model.fit(train_generator, validation_data=validation_generator, epochs=10, verbose=0)\n",
    "                accuracy = model.evaluate(test_generator)[1]\n",
    "                print('Accuracy:', accuracy)\n",
    "                if accuracy > best_accuracy:\n",
    "                    best_accuracy = accuracy\n",
    "                    best_model = model\n",
    "\n",
    "#model = model_trainer()\n",
    "MODEL_PATH = \"/Users/diego/UValencia/TFG/notebook/model/modelo90%.h5\"\n",
    "model = load_model(MODEL_PATH)\n"
   ]
  },
  {
   "cell_type": "markdown",
   "metadata": {},
   "source": [
    "# Evaluación del modelo"
   ]
  },
  {
   "cell_type": "code",
   "execution_count": null,
   "metadata": {},
   "outputs": [],
   "source": [
    "score = model.evaluate(test_generator,\n",
    "                        verbose = 1)  \n",
    "\n",
    "# Assuming model.predict(test_generator) returns the predicted labels\n",
    "# and test_generator.classes gives the true labels\n",
    "\n",
    "# Replace these with your actual predicted and true labels\n",
    "predicted_labels = model.predict(test_generator)\n",
    "true_labels = test_generator.classes"
   ]
  },
  {
   "cell_type": "markdown",
   "metadata": {},
   "source": [
    "# Visualización de filtros aprendidos"
   ]
  },
  {
   "cell_type": "code",
   "execution_count": 14,
   "metadata": {},
   "outputs": [
    {
     "data": {
      "image/png": "[encoded data removed]",
      "text/plain": [
       "<Figure size 2000x1500 with 18 Axes>"
      ]
     },
     "metadata": {},
     "output_type": "display_data"
    }
   ],
   "source": [
    "filters, biases = model.layers[0].get_weights()\n",
    "f_min, f_max = filters.min(), filters.max()\n",
    "filters = (filters - f_min) / (f_max - f_min)\n",
    "\n",
    "n_filters = 6\n",
    "ix = 1\n",
    "fig = plt.figure(figsize=(20,15))\n",
    "for i in range(n_filters):\n",
    "    f = filters[:, :, :, i]\n",
    "    for j in range(3):\n",
    "        plt.subplot(n_filters, 3, ix)\n",
    "        plt.imshow(f[:, :, j], cmap='gray')\n",
    "        ix += 1\n",
    "plt.show()"
   ]
  },
  {
   "cell_type": "markdown",
   "metadata": {},
   "source": [
    "# Predicción y tiempo de inferencia"
   ]
  },
  {
   "cell_type": "code",
   "execution_count": null,
   "metadata": {},
   "outputs": [],
   "source": [
    "import time\n",
    "start_time = time.perf_counter()\n",
    "preds = model.predict(train_generator[0][0])\n",
    "elapsed_time = time.perf_counter() - start_time\n",
    "print(f'Tiempo transcurrido: {elapsed_time} segundos')"
   ]
  }
 ],
 "metadata": {
  "kernelspec": {
   "display_name": "Python 3",
   "language": "python",
   "name": "python3"
  },
  "language_info": {
   "codemirror_mode": {
    "name": "ipython",
    "version": 3
   },
   "file_extension": ".py",
   "mimetype": "text/x-python",
   "name": "python",
   "nbconvert_exporter": "python",
   "pygments_lexer": "ipython3",
   "version": "3.9.7"
  }
 },
 "nbformat": 4,
 "nbformat_minor": 4
}
